{
 "cells": [
  {
   "cell_type": "code",
   "execution_count": 20,
   "id": "981fa126",
   "metadata": {},
   "outputs": [
    {
     "name": "stdout",
     "output_type": "stream",
     "text": [
      "<class '__main__.Thing'>\n",
      "<__main__.Thing object at 0x000002424E93F7F0>\n"
     ]
    }
   ],
   "source": [
    "'''\n",
    "Things to do 10.1\n",
    "Aaron Roberson\n",
    "4/6/2023\n",
    "This section is creating a class and an object and printing them both\n",
    "to see if the output is the same\n",
    "'''\n",
    "#Creating class and using pass to indicate the class is empty\n",
    "class Thing():\n",
    "    pass\n",
    "\n",
    "print(Thing) #printing empty class\n",
    "\n",
    "#Creating an object of the class and outputting the result\n",
    "example = Thing()\n",
    "print(example)\n",
    "\n",
    "#The printed values are different"
   ]
  },
  {
   "cell_type": "code",
   "execution_count": 21,
   "id": "ae364bc5",
   "metadata": {},
   "outputs": [
    {
     "name": "stdout",
     "output_type": "stream",
     "text": [
      "Hydrogen  H  1\n"
     ]
    }
   ],
   "source": [
    "'''\n",
    "Things to do 10.4\n",
    "Aaron Roberson\n",
    "4/6/2023\n",
    "This section creates a class with attributes and an object of the class\n",
    "'''\n",
    "#creating the element class and giving it attributes\n",
    "class Element():\n",
    "    def __init__(self, name, symbol, number):\n",
    "        self.name = name    \n",
    "        self.symbol = symbol\n",
    "        self.number = number\n",
    "#creating object of the class and giving values for the classes attributes (name, symbol, number)\n",
    "hydrogen = Element(\"Hydrogen\", \"H\", 1) \n",
    "#outputting the objects values\n",
    "print(hydrogen.name, \"\", hydrogen.symbol, \"\", str(hydrogen.number))\n",
    "\n",
    "  \n",
    "    \n"
   ]
  },
  {
   "cell_type": "code",
   "execution_count": 40,
   "id": "e68ef49a",
   "metadata": {},
   "outputs": [
    {
     "name": "stdout",
     "output_type": "stream",
     "text": [
      "Hydrogen H 1\n"
     ]
    }
   ],
   "source": [
    "'''\n",
    "Things to do 10.5\n",
    "Aaron Roberson\n",
    "4/6/2023\n",
    "This section creates a dictionary and an object from a class using the dictionary\n",
    "'''\n",
    "#creating a dictionary\n",
    "theEle = {'name': 'Hydrogen', 'symbol': 'H', 'number': 1}\n",
    "#creating the object(hydrogen) from the class(Element) and using the dictionary keys to get values\n",
    "hydrogen = Element(theEle['name'],theEle['symbol'], theEle['number'])\n",
    "#outputting the values\n",
    "print(hydrogen.name, hydrogen.symbol, hydrogen.number)\n",
    "\n",
    "\n",
    "\n",
    "\n",
    "\n"
   ]
  },
  {
   "cell_type": "code",
   "execution_count": 47,
   "id": "f00eb535",
   "metadata": {},
   "outputs": [
    {
     "name": "stdout",
     "output_type": "stream",
     "text": [
      "berries\n",
      "clover\n",
      "campers\n"
     ]
    }
   ],
   "source": [
    "'''\n",
    "Things to do 10.9\n",
    "Aaron Roberson\n",
    "4/6/2023\n",
    "This section takes 3 animals and outputs what they eat using classes and methods.\n",
    "'''\n",
    "#creating the animal classes with each having an eat method and returning what they eat\n",
    "class Bear():\n",
    "    def eats(self):\n",
    "        return(\"berries\")\n",
    "    \n",
    "class Rabbit():\n",
    "    def eats(self):\n",
    "        return(\"clover\")    \n",
    "    \n",
    "class Octothorpe():\n",
    "    def eats(self):\n",
    "        return(\"campers\")\n",
    "\n",
    "#creating objects for each class        \n",
    "bearEats = Bear()\n",
    "rabbitEats = Rabbit()\n",
    "octothorpeEats = Octothorpe()\n",
    "\n",
    "#output what each animal eats\n",
    "print(bearEats.eats())\n",
    "print(rabbitEats.eats())\n",
    "print(octothorpeEats.eats())\n",
    "\n",
    "\n",
    "        \n",
    "        \n"
   ]
  },
  {
   "cell_type": "code",
   "execution_count": null,
   "id": "b0fe6e58",
   "metadata": {},
   "outputs": [],
   "source": []
  }
 ],
 "metadata": {
  "kernelspec": {
   "display_name": "Python 3 (ipykernel)",
   "language": "python",
   "name": "python3"
  },
  "language_info": {
   "codemirror_mode": {
    "name": "ipython",
    "version": 3
   },
   "file_extension": ".py",
   "mimetype": "text/x-python",
   "name": "python",
   "nbconvert_exporter": "python",
   "pygments_lexer": "ipython3",
   "version": "3.10.9"
  }
 },
 "nbformat": 4,
 "nbformat_minor": 5
}
