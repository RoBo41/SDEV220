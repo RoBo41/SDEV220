{
 "cells": [
  {
   "cell_type": "code",
   "execution_count": 2,
   "id": "f24f2444",
   "metadata": {},
   "outputs": [
    {
     "name": "stdout",
     "output_type": "stream",
     "text": [
      "['mozzarella', 'cinderella', 'salmonella']\n"
     ]
    }
   ],
   "source": [
    "'''\n",
    "Things to do 7.4\n",
    "Aaron Roberson\n",
    "4/5/2023\n",
    "This section is creating a list with given elements\n",
    "'''\n",
    "#creating a list and setting the elements in the list\n",
    "things = [\"mozzarella\", \"cinderella\", \"salmonella\"]\n",
    "print(things)"
   ]
  },
  {
   "cell_type": "code",
   "execution_count": 3,
   "id": "3436b8cd",
   "metadata": {},
   "outputs": [
    {
     "name": "stdout",
     "output_type": "stream",
     "text": [
      "['mozzarella', 'Cinderella', 'salmonella']\n"
     ]
    }
   ],
   "source": [
    "'''\n",
    "Things to do 7.5\n",
    "Aaron Roberson\n",
    "4/5/2023\n",
    "This section takes an element of the list and capitalizes the first letter of just that element\n",
    "'''\n",
    "\n",
    "#taking the position of the element that refers to a person and capitalizing the first letter\n",
    "things[1] = things[1].capitalize()\n",
    "print(things)"
   ]
  },
  {
   "cell_type": "code",
   "execution_count": 4,
   "id": "6efe24e8",
   "metadata": {},
   "outputs": [
    {
     "name": "stdout",
     "output_type": "stream",
     "text": [
      "['MOZZARELLA', 'Cinderella', 'salmonella']\n"
     ]
    }
   ],
   "source": [
    "'''\n",
    "Things to do 7.6\n",
    "Aaron Roberson\n",
    "4/5/2023\n",
    "This section takes an element of a list and capitalizes the whole word only\n",
    "'''\n",
    "#taking the position of the element that is cheesy and capitalizing the whole word\n",
    "things[0] = things[0].upper()\n",
    "print(things)"
   ]
  },
  {
   "cell_type": "code",
   "execution_count": 5,
   "id": "9df0a1d7",
   "metadata": {},
   "outputs": [
    {
     "name": "stdout",
     "output_type": "stream",
     "text": [
      "['MOZZARELLA', 'Cinderella']\n"
     ]
    }
   ],
   "source": [
    "'''\n",
    "Things to do 7.7\n",
    "Aaron Roberson\n",
    "4/5/2023\n",
    "This section deletes and element from a list\n",
    "'''\n",
    "#taking the position of the element that is diseased and removing it from the list.\n",
    "del things[2]\n",
    "print(things)"
   ]
  },
  {
   "cell_type": "code",
   "execution_count": 6,
   "id": "e9bb188b",
   "metadata": {},
   "outputs": [
    {
     "name": "stdout",
     "output_type": "stream",
     "text": [
      "['Harry', 'Ron', 'Hermione']\n"
     ]
    }
   ],
   "source": [
    "'''\n",
    "Things to do 9.1\n",
    "Aaron Roberson\n",
    "4/5/2023\n",
    "This section defines a function with a list of names\n",
    "'''\n",
    "#defining the function good with a list and printing the function\n",
    "def good():\n",
    "    return [\"Harry\", \"Ron\", \"Hermione\"]\n",
    "print(good())"
   ]
  },
  {
   "cell_type": "code",
   "execution_count": 8,
   "id": "dd7a0c83",
   "metadata": {},
   "outputs": [
    {
     "name": "stdout",
     "output_type": "stream",
     "text": [
      "The third odd number is: 5\n"
     ]
    }
   ],
   "source": [
    "'''\n",
    "Things to do 9.2\n",
    "Aaron Roberson\n",
    "4/5/2023\n",
    "This section sets a function to get the odd numbers from 1-10 and uses for loop to output the 3rd odd number returned from the range\n",
    "'''\n",
    "#defining the function get_odds to go through a number range of 10 and return the odd numbers\n",
    "def get_odds():\n",
    "    for number in range(10): \n",
    "        if number % 2 != 0: # taking each number in range of 10 and dividing it by 2 and if the remainder isn't zero then the number is odd\n",
    "            yield number # returning the odd numbers. used yield instead of return to make get_odds a generator function\n",
    "    \n",
    "count = 0 #setting counter to zero\n",
    "#loop to run through the function and print the third number \n",
    "for number in get_odds():\n",
    "    if count == 2:\n",
    "        print(\"The third odd number is:\", number)\n",
    "        break\n",
    "    count = count + 1 \n"
   ]
  },
  {
   "cell_type": "code",
   "execution_count": null,
   "id": "5bcb48dd",
   "metadata": {},
   "outputs": [],
   "source": []
  }
 ],
 "metadata": {
  "kernelspec": {
   "display_name": "Python 3 (ipykernel)",
   "language": "python",
   "name": "python3"
  },
  "language_info": {
   "codemirror_mode": {
    "name": "ipython",
    "version": 3
   },
   "file_extension": ".py",
   "mimetype": "text/x-python",
   "name": "python",
   "nbconvert_exporter": "python",
   "pygments_lexer": "ipython3",
   "version": "3.10.9"
  }
 },
 "nbformat": 4,
 "nbformat_minor": 5
}
