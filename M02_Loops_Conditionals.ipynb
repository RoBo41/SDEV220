{
 "cells": [
  {
   "cell_type": "code",
   "execution_count": 2,
   "id": "fccfb60d",
   "metadata": {},
   "outputs": [
    {
     "name": "stdout",
     "output_type": "stream",
     "text": [
      "too high\n"
     ]
    }
   ],
   "source": [
    "#Section 4.1\n",
    "#Aaron Roberson\n",
    "#This program assigns a number between 1-10 to the variables secret and guess.\n",
    "#It then checks to see if the number associated with guess is less than, greater than, or eqal to the number assigned to secret.\n",
    "\n",
    "#Assigning numbers to variables\n",
    "secret = 7\n",
    "guess = 9\n",
    "\n",
    "#conditions to check if guess is less than, greater than, or equal to secret/\n",
    "#and outputting if the number is low, high or just right.\n",
    "if (guess == secret):\n",
    "    print(\"just right\")\n",
    "\n",
    "elif (guess < secret):\n",
    "    print(\"too low\")\n",
    "    \n",
    "else:\n",
    "    print(\"too high\")"
   ]
  },
  {
   "cell_type": "code",
   "execution_count": 4,
   "id": "4377fbd5",
   "metadata": {},
   "outputs": [
    {
     "name": "stdout",
     "output_type": "stream",
     "text": [
      "watermelon\n"
     ]
    }
   ],
   "source": [
    "#Section 4.2\n",
    "#Aaron Roberson\n",
    "#This program takes variables assigned either true or false and checks over conditions to determine which fruit matches the conditions.\n",
    "\n",
    "#Assigning True or False to the variables.\n",
    "small = False\n",
    "green = True\n",
    "\n",
    "#Testing conditions to determine which fruit matches both variables and outputting the fruit in which the condition matches.\n",
    "if (small and not green):\n",
    "    print(\"cherry\")\n",
    "\n",
    "elif (not small and green):\n",
    "    print(\"watermelon\")\n",
    "    \n",
    "elif (not small and not green):\n",
    "    print(\"pumpkin\")\n",
    "    \n",
    "else:\n",
    "    print(\"pea\")"
   ]
  },
  {
   "cell_type": "code",
   "execution_count": 5,
   "id": "e9d140f0",
   "metadata": {},
   "outputs": [
    {
     "name": "stdout",
     "output_type": "stream",
     "text": [
      "3\n",
      "2\n",
      "1\n",
      "0\n"
     ]
    }
   ],
   "source": [
    "#Section 6.1\n",
    "#Aaron Roberson\n",
    "#This program uses a for loop to print the values of a list\n",
    "\n",
    "#Created variable numbers and assigned a list to it.\n",
    "numbers = [3, 2, 1, 0]\n",
    "#Using for loop to get the values of the list and output them.\n",
    "for num in numbers:\n",
    "    print(num)"
   ]
  },
  {
   "cell_type": "code",
   "execution_count": 6,
   "id": "33b42403",
   "metadata": {},
   "outputs": [
    {
     "name": "stdout",
     "output_type": "stream",
     "text": [
      "too low\n",
      "too low\n",
      "too low\n",
      "too low\n",
      "too low\n",
      "too low\n",
      "found it!\n"
     ]
    }
   ],
   "source": [
    "#Section 6.2\n",
    "#Aaron Roberson\n",
    "#This program uses a loop to test whether a number is less than, greater than or equal to the other./\n",
    "#It will output too low on each iteration that it is less than the other number until it reaches equal to or greater than/\n",
    "# where it will output found it if it is the same or oops if it is over.\n",
    "\n",
    "#Assigning number values to variables.\n",
    "guess_me = 7\n",
    "number = 1\n",
    "\n",
    "#using while loop to test conditions untile one proves true. Set while loop to true to infinitely test the loop until/\n",
    "#the number is guessed correctly or number goes over the guess in which the loop will then break.\n",
    "while True: \n",
    "#conditions to test   \n",
    "    if (number < guess_me):\n",
    "        print(\"too low\")\n",
    "        \n",
    "    elif (number == guess_me):\n",
    "        print(\"found it!\")\n",
    "        break #breaking out of the loop when this condition proves true\n",
    "        \n",
    "    else:\n",
    "        print(\"oops\")\n",
    "        break #breaking out of the loop if this statement proves true\n",
    "        \n",
    "    number += 1 #incrementing number by 1 for each pass in the loop \n"
   ]
  },
  {
   "cell_type": "code",
   "execution_count": 16,
   "id": "31338b8e",
   "metadata": {},
   "outputs": [
    {
     "name": "stdout",
     "output_type": "stream",
     "text": [
      "too low\n",
      "too low\n",
      "too low\n",
      "too low\n",
      "found it!\n"
     ]
    }
   ],
   "source": [
    "#Section 6.3\n",
    "#Aaron Roberson\n",
    "#This program uses a for loop to search through a list from 1 to 10 for the number assigned to variable guess_me./\n",
    "#The loop iterates as long as number is less than guess_me and stops when the equal to or greather than condition is met.\n",
    "\n",
    "#Setting variable guess_me to 5 and number to empty list\n",
    "guess_me = 5\n",
    "number = 0\n",
    "\n",
    "#using for loop to get number range from 1 to 10 for the loop to iterate through and test conditions until either equal to/\n",
    "#or greater than is reached.\n",
    "for number in range(1,10): \n",
    "    \n",
    "    if (number < guess_me): \n",
    "        print(\"too low\")\n",
    "        number += 1 #as long as this condition is true the loop continues to iterate by 1.\n",
    "        \n",
    "    elif (number == guess_me):\n",
    "        print(\"found it!\")\n",
    "        break #to stop loop if condition is met\n",
    "        \n",
    "    else:\n",
    "        print(\"oops\")\n",
    "        break #to stop loop if condition is met"
   ]
  }
 ],
 "metadata": {
  "kernelspec": {
   "display_name": "Python 3 (ipykernel)",
   "language": "python",
   "name": "python3"
  },
  "language_info": {
   "codemirror_mode": {
    "name": "ipython",
    "version": 3
   },
   "file_extension": ".py",
   "mimetype": "text/x-python",
   "name": "python",
   "nbconvert_exporter": "python",
   "pygments_lexer": "ipython3",
   "version": "3.10.9"
  }
 },
 "nbformat": 4,
 "nbformat_minor": 5
}
