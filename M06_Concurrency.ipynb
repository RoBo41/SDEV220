{
 "cells": [
  {
   "cell_type": "code",
   "execution_count": 2,
   "id": "f7d5b6ea",
   "metadata": {},
   "outputs": [
    {
     "name": "stdout",
     "output_type": "stream",
     "text": [
      "2023-04-24\n"
     ]
    }
   ],
   "source": [
    "'''\n",
    "Section 13.1\n",
    "Aaron Roberson\n",
    "4/24/2023\n",
    "This section writes today's date to a text file\n",
    "'''\n",
    "\n",
    "#import date from datetime library\n",
    "from datetime import date\n",
    "\n",
    "#getting todays date\n",
    "today = date.today().isoformat()\n",
    "#writing date to file\n",
    "with open('today.txt', 'w') as file:\n",
    "    file.write(today)\n",
    "    print(today)"
   ]
  },
  {
   "cell_type": "code",
   "execution_count": 16,
   "id": "901baae9",
   "metadata": {},
   "outputs": [
    {
     "name": "stdout",
     "output_type": "stream",
     "text": [
      "2023-04-24\n"
     ]
    }
   ],
   "source": [
    "#Section 13.2\n",
    "#This section reads the file into a set string\n",
    "#open text file and reading it to today_string\n",
    "with open(\"today.txt\", \"r\") as file:\n",
    "    today_string = file.readline()\n",
    "    print (today_string)  "
   ]
  },
  {
   "cell_type": "code",
   "execution_count": 15,
   "id": "03e6c6ca",
   "metadata": {},
   "outputs": [
    {
     "data": {
      "text/plain": [
       "time.struct_time(tm_year=2023, tm_mon=4, tm_mday=24, tm_hour=0, tm_min=0, tm_sec=0, tm_wday=0, tm_yday=114, tm_isdst=-1)"
      ]
     },
     "execution_count": 15,
     "metadata": {},
     "output_type": "execute_result"
    }
   ],
   "source": [
    "#Section 13.3\n",
    "#This section parses the date from the today string\n",
    "#importing time module\n",
    "import time\n",
    "\n",
    "time.strptime(today_string, '%Y-%m-%d')\n"
   ]
  },
  {
   "cell_type": "code",
   "execution_count": 5,
   "id": "41525112",
   "metadata": {},
   "outputs": [],
   "source": [
    "#Section 15.1\n",
    "# This section uses multiprocessing to take three processes and make each wait a random number of seconds between 0 and 1 then outputs.\n",
    "#import modules\n",
    "import multiprocessing\n",
    "import random\n",
    "import time\n",
    "import datetime\n",
    "#create function to allow a random float number between 0 and 1 and output the date and time\n",
    "def process():\n",
    "    time.sleep(random.uniform(0, 1)) #random.uniform allows for random float number\n",
    "    print(\"The current date and time is: \", datetime.datetime.now()) #output date and time\n",
    "#if being ran as main then this code will be run    \n",
    "if __name__ == 'main':\n",
    "    for i in range(3): # 3 processess\n",
    "        processing = multiprocessing.Process(target = process) #starting the processes using the process function\n",
    "        processing.start() #process start\n",
    "        \n",
    "  \n",
    "\n",
    "        \n",
    "\n",
    "    \n",
    "\n",
    "    \n",
    "    \n",
    "    "
   ]
  }
 ],
 "metadata": {
  "kernelspec": {
   "display_name": "Python 3 (ipykernel)",
   "language": "python",
   "name": "python3"
  },
  "language_info": {
   "codemirror_mode": {
    "name": "ipython",
    "version": 3
   },
   "file_extension": ".py",
   "mimetype": "text/x-python",
   "name": "python",
   "nbconvert_exporter": "python",
   "pygments_lexer": "ipython3",
   "version": "3.10.9"
  }
 },
 "nbformat": 4,
 "nbformat_minor": 5
}
