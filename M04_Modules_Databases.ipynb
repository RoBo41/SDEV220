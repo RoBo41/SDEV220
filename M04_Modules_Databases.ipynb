{
 "cells": [
  {
   "cell_type": "code",
   "execution_count": 1,
   "id": "81e6428d",
   "metadata": {},
   "outputs": [
    {
     "name": "stdout",
     "output_type": "stream",
     "text": [
      "Open 9-5 daily\n"
     ]
    }
   ],
   "source": [
    "'''\n",
    "section 11.1\n",
    "Aaron Roberson\n",
    "4/13/2023\n",
    "This section creates a file and a funciton within the file which is then called to the terminal\n",
    "'''\n",
    "#importing zoo.py file\n",
    "import zoo\n",
    "#outputting whats in the zoo file\n",
    "zoo.hours()"
   ]
  },
  {
   "cell_type": "code",
   "execution_count": 10,
   "id": "297b0773",
   "metadata": {},
   "outputs": [
    {
     "name": "stdout",
     "output_type": "stream",
     "text": [
      "Open 9-5 daily\n"
     ]
    }
   ],
   "source": [
    "'''\n",
    "section 11.2\n",
    "Aaron Roberson\n",
    "4/13/2023\n",
    "This section imports file with an alias and calls it's function\n",
    "'''\n",
    "#importing zoo file as the alias menagerie\n",
    "import zoo as menagerie\n",
    "#outputting whats in the zoo file using alias\n",
    "menagerie.hours()"
   ]
  },
  {
   "cell_type": "code",
   "execution_count": 13,
   "id": "58c527fb",
   "metadata": {},
   "outputs": [],
   "source": [
    "'''\n",
    "section 16.3\n",
    "Aaron Roberson\n",
    "4/13/2023\n",
    "This section creates a file and adds information to the file\n",
    "'''\n",
    "#importing csv module\n",
    "import csv\n",
    "#opening file books2 in write mode to write to the file\n",
    "with open('books2.csv', 'w') as file:\n",
    "    wFile = csv.writer(file) #creating variable and setting it to writer method to be able to write data to the file\n",
    "#creating list of the information I want to write to file        \n",
    "    info = [\n",
    "        ['title', 'author', 'year'],\n",
    "        ['The Weirdstone of Brisingamer', 'Alan Garner' , '1960' ],\n",
    "        ['Perdido Street Station' , 'China Mieville' , '2000'],\n",
    "        ['Thud!', 'Terry Pratchett', '2005'],\n",
    "        ['The Spellman Files', 'Lisa Lutz' , '2007'],\n",
    "        ['Small Gods', 'Terry Pratchett', '1992'],\n",
    "    ]\n",
    "#writing the list to the file    \n",
    "    wFile.writerows(info) \n",
    "    \n",
    "    "
   ]
  },
  {
   "cell_type": "code",
   "execution_count": 1,
   "id": "0440e986",
   "metadata": {},
   "outputs": [],
   "source": [
    "'''\n",
    "section 16.4\n",
    "Aaron Roberson\n",
    "4/13/2023\n",
    "This section creates a database with a table in it using sqlite3 module\n",
    "'''\n",
    "#importing module\n",
    "import sqlite3\n",
    "#creating connection to the database\n",
    "conn = sqlite3.connect('books.db')\n",
    "\n",
    "curs = conn.cursor()\n",
    "\n",
    "#creating the table\n",
    "curs.execute('''CREATE TABLE books (title text, author text, year int)''')\n",
    "\n",
    "\n",
    "#commiting the tabel and contents\n",
    "conn.commit()\n"
   ]
  },
  {
   "cell_type": "code",
   "execution_count": 10,
   "id": "223ccb4c",
   "metadata": {},
   "outputs": [],
   "source": [
    "'''\n",
    "section 16.5\n",
    "Aaron Roberson\n",
    "4/13/2023\n",
    "This section reads a csv file and inserts its contents into a table\n",
    "'''\n",
    "#importing modules\n",
    "import csv\n",
    "import sqlite3\n",
    "#creating connection to database\n",
    "conn = sqlite3.connect('books.db')\n",
    "#cursor object\n",
    "curs = conn.cursor()\n",
    "\n",
    "insert = 'INSERT INTO books VALUES(?, ?, ?)'\n",
    "#opening and reading file\n",
    "with open('books2.csv', 'rt') as file:\n",
    "    books = csv.DictReader(file)\n",
    "#looping through file    \n",
    "    for book in books:\n",
    "        curs.execute(insert, (book['title'], book['author'], book['year'])) #input data into the table\n",
    " #commiting changes       \n",
    "        conn.commit()\n",
    "    \n",
    "\n",
    "    \n",
    "\n",
    "\n",
    "    \n",
    "  \n",
    "    \n",
    "    \n",
    "\n",
    "        \n",
    "    \n",
    "    \n",
    "   \n",
    "    \n",
    "   \n",
    "     \n",
    "    \n",
    "    \n",
    "    \n"
   ]
  },
  {
   "cell_type": "code",
   "execution_count": 11,
   "id": "dfe546cf",
   "metadata": {},
   "outputs": [
    {
     "name": "stdout",
     "output_type": "stream",
     "text": [
      "('Perdido Street Station',)\n",
      "('Small Gods',)\n",
      "('The Spellman Files',)\n",
      "('The Weirdstone of Brisingamer',)\n",
      "('Thud!',)\n"
     ]
    }
   ],
   "source": [
    "'''\n",
    "Section 16.8\n",
    "Aaron Roberson\n",
    "4/13/2023\n",
    "This section connects a module to the database and output the contents in alphabetical order\n",
    "'''\n",
    "#importing module\n",
    "import sqlalchemy\n",
    "#connecting engine to the database that was created\n",
    "conn = sqlalchemy.create_engine('sqlite:///books.db')\n",
    "#create variable to define the specific query\n",
    "title = 'SELECT title FROM books ORDER BY title'\n",
    "#executing the query and storing the result in a variable\n",
    "rows = conn.execute(title)\n",
    "#getting result of query and printing to console\n",
    "for row in rows:\n",
    "    print(row)\n",
    "\n",
    "\n"
   ]
  },
  {
   "cell_type": "code",
   "execution_count": null,
   "id": "e0483865",
   "metadata": {},
   "outputs": [],
   "source": []
  }
 ],
 "metadata": {
  "kernelspec": {
   "display_name": "Python 3 (ipykernel)",
   "language": "python",
   "name": "python3"
  },
  "language_info": {
   "codemirror_mode": {
    "name": "ipython",
    "version": 3
   },
   "file_extension": ".py",
   "mimetype": "text/x-python",
   "name": "python",
   "nbconvert_exporter": "python",
   "pygments_lexer": "ipython3",
   "version": "3.10.9"
  }
 },
 "nbformat": 4,
 "nbformat_minor": 5
}
